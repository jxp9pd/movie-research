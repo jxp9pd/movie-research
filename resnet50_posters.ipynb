from keras.preprocessing.image import load_img
from keras.preprocessing.image import img_to_array
from keras.applications.imagenet_utils import decode_predictions
import matplotlib.pyplot as plt
import numpy as np
import keras
from keras.applications import resnet50

#Load the ResNet50 model
base_model = resnet50.ResNet50(weights='imagenet')
base_model.summary()